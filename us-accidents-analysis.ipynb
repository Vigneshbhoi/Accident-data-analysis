{
 "cells": [
  {
   "cell_type": "markdown",
   "metadata": {
    "id": "FIPMsRH37EjL"
   },
   "source": [
    "**NOTE -**\n",
    "The Dataset used in this workshop was updated recently from Kaggle, here are the things changed since the live workshop.\n",
    "- The filename of the dataset has been updated, the new filename is **'./us-accidents/US_Accidents_Dec20_updated.csv'**. Please change the filename if you are getting errors while creating the dataframe.\n",
    "- The **\"Source\"** column is removed from the updated dataset. Any mention of \"Source\" in this notebook can be ignored while using the updated dataset.\n",
    "\n",
    "# US Accidents Exploratory Data Analysis\n",
    "\n",
    "TODO - talk about EDA\n",
    "\n",
    "TODO - talk about the dataset (source, what it contains, how it will be useful)\n",
    "  - Kaggle\n",
    "  - informaiton about accidents\n",
    "  - can use useful to prevent accidents\n",
    "  - mention that this does not contain data about New York\n"
   ]
  },
  {
   "cell_type": "code",
   "execution_count": 1,
   "metadata": {
    "executionInfo": {
     "elapsed": 920,
     "status": "ok",
     "timestamp": 1614873409683,
     "user": {
      "displayName": "Aakash N S",
      "photoUrl": "https://lh3.googleusercontent.com/a-/AOh14GiIWFHtan62vtW1gz2Bv2bxL3rppefcadxzEVxRKQ=s64",
      "userId": "03254185060287524023"
     },
     "user_tz": -330
    },
    "id": "QBJB1AK29BT2"
   },
   "outputs": [],
   "source": [
    "data_filename = './us-accidents/data.xlsx'"
   ]
  },
  {
   "cell_type": "markdown",
   "metadata": {
    "id": "L0doTYcH7Qxs"
   },
   "source": [
    "## Data Preparation and Cleaning\n",
    "\n",
    "1. Load the file using Pandas\n",
    "2. Look at some information about the data & the columns\n",
    "3. Fix any missing or incorrect values"
   ]
  },
  {
   "cell_type": "code",
   "execution_count": 4,
   "metadata": {
    "executionInfo": {
     "elapsed": 1245,
     "status": "ok",
     "timestamp": 1614873486751,
     "user": {
      "displayName": "Aakash N S",
      "photoUrl": "https://lh3.googleusercontent.com/a-/AOh14GiIWFHtan62vtW1gz2Bv2bxL3rppefcadxzEVxRKQ=s64",
      "userId": "03254185060287524023"
     },
     "user_tz": -330
    },
    "id": "p9o1x5mC7JJ-"
   },
   "outputs": [],
   "source": [
    "import pandas as pd"
   ]
  },
  {
   "cell_type": "code",
   "execution_count": 5,
   "metadata": {
    "executionInfo": {
     "elapsed": 29122,
     "status": "ok",
     "timestamp": 1614873551655,
     "user": {
      "displayName": "Aakash N S",
      "photoUrl": "https://lh3.googleusercontent.com/a-/AOh14GiIWFHtan62vtW1gz2Bv2bxL3rppefcadxzEVxRKQ=s64",
      "userId": "03254185060287524023"
     },
     "user_tz": -330
    },
    "id": "-2x1XO5w7VgE"
   },
   "outputs": [],
   "source": [
    "df = pd.read_excel(data_filename)"
   ]
  },
  {
   "cell_type": "code",
   "execution_count": 7,
   "metadata": {
    "colab": {
     "base_uri": "https://localhost:8080/",
     "height": 976
    },
    "executionInfo": {
     "elapsed": 1140,
     "status": "ok",
     "timestamp": 1614873561207,
     "user": {
      "displayName": "Aakash N S",
      "photoUrl": "https://lh3.googleusercontent.com/a-/AOh14GiIWFHtan62vtW1gz2Bv2bxL3rppefcadxzEVxRKQ=s64",
      "userId": "03254185060287524023"
     },
     "user_tz": -330
    },
    "id": "NHajB4gW7V8Z",
    "outputId": "06a8d817-1cb9-4abd-d9ed-8527df883af6"
   },
   "outputs": [
    {
     "data": {
      "text/html": [
       "<div>\n",
       "<style scoped>\n",
       "    .dataframe tbody tr th:only-of-type {\n",
       "        vertical-align: middle;\n",
       "    }\n",
       "\n",
       "    .dataframe tbody tr th {\n",
       "        vertical-align: top;\n",
       "    }\n",
       "\n",
       "    .dataframe thead th {\n",
       "        text-align: right;\n",
       "    }\n",
       "</style>\n",
       "<table border=\"1\" class=\"dataframe\">\n",
       "  <thead>\n",
       "    <tr style=\"text-align: right;\">\n",
       "      <th></th>\n",
       "      <th>ID</th>\n",
       "      <th>Severity</th>\n",
       "      <th>Start_Time</th>\n",
       "      <th>End_Time</th>\n",
       "      <th>Start_Lat</th>\n",
       "      <th>Start_Lng</th>\n",
       "      <th>End_Lat</th>\n",
       "      <th>End_Lng</th>\n",
       "      <th>Distance(mi)</th>\n",
       "      <th>Description</th>\n",
       "      <th>...</th>\n",
       "      <th>Roundabout</th>\n",
       "      <th>Station</th>\n",
       "      <th>Stop</th>\n",
       "      <th>Traffic_Calming</th>\n",
       "      <th>Traffic_Signal</th>\n",
       "      <th>Turning_Loop</th>\n",
       "      <th>Sunrise_Sunset</th>\n",
       "      <th>Civil_Twilight</th>\n",
       "      <th>Nautical_Twilight</th>\n",
       "      <th>Astronomical_Twilight</th>\n",
       "    </tr>\n",
       "  </thead>\n",
       "  <tbody>\n",
       "    <tr>\n",
       "      <th>0</th>\n",
       "      <td>A-1</td>\n",
       "      <td>3</td>\n",
       "      <td>2016-02-08 00:37:08</td>\n",
       "      <td>2016-02-08 06:37:08</td>\n",
       "      <td>40.108910</td>\n",
       "      <td>-83.092860</td>\n",
       "      <td>40.112060</td>\n",
       "      <td>-83.031870</td>\n",
       "      <td>3.230</td>\n",
       "      <td>Between Sawmill Rd/Exit 20 and OH-315/Olentang...</td>\n",
       "      <td>...</td>\n",
       "      <td>False</td>\n",
       "      <td>False</td>\n",
       "      <td>False</td>\n",
       "      <td>False</td>\n",
       "      <td>False</td>\n",
       "      <td>False</td>\n",
       "      <td>Night</td>\n",
       "      <td>Night</td>\n",
       "      <td>Night</td>\n",
       "      <td>Night</td>\n",
       "    </tr>\n",
       "    <tr>\n",
       "      <th>1</th>\n",
       "      <td>A-2</td>\n",
       "      <td>2</td>\n",
       "      <td>2016-02-08 05:56:20</td>\n",
       "      <td>2016-02-08 11:56:20</td>\n",
       "      <td>39.865420</td>\n",
       "      <td>-84.062800</td>\n",
       "      <td>39.865010</td>\n",
       "      <td>-84.048730</td>\n",
       "      <td>0.747</td>\n",
       "      <td>At OH-4/OH-235/Exit 41 - Accident.</td>\n",
       "      <td>...</td>\n",
       "      <td>False</td>\n",
       "      <td>False</td>\n",
       "      <td>False</td>\n",
       "      <td>False</td>\n",
       "      <td>False</td>\n",
       "      <td>False</td>\n",
       "      <td>Night</td>\n",
       "      <td>Night</td>\n",
       "      <td>Night</td>\n",
       "      <td>Night</td>\n",
       "    </tr>\n",
       "    <tr>\n",
       "      <th>2</th>\n",
       "      <td>A-3</td>\n",
       "      <td>2</td>\n",
       "      <td>2016-02-08 06:15:39</td>\n",
       "      <td>2016-02-08 12:15:39</td>\n",
       "      <td>39.102660</td>\n",
       "      <td>-84.524680</td>\n",
       "      <td>39.102090</td>\n",
       "      <td>-84.523960</td>\n",
       "      <td>0.055</td>\n",
       "      <td>At I-71/US-50/Exit 1 - Accident.</td>\n",
       "      <td>...</td>\n",
       "      <td>False</td>\n",
       "      <td>False</td>\n",
       "      <td>False</td>\n",
       "      <td>False</td>\n",
       "      <td>False</td>\n",
       "      <td>False</td>\n",
       "      <td>Night</td>\n",
       "      <td>Night</td>\n",
       "      <td>Night</td>\n",
       "      <td>Day</td>\n",
       "    </tr>\n",
       "    <tr>\n",
       "      <th>3</th>\n",
       "      <td>A-4</td>\n",
       "      <td>2</td>\n",
       "      <td>2016-02-08 06:51:45</td>\n",
       "      <td>2016-02-08 12:51:45</td>\n",
       "      <td>41.062130</td>\n",
       "      <td>-81.537840</td>\n",
       "      <td>41.062170</td>\n",
       "      <td>-81.535470</td>\n",
       "      <td>0.123</td>\n",
       "      <td>At Dart Ave/Exit 21 - Accident.</td>\n",
       "      <td>...</td>\n",
       "      <td>False</td>\n",
       "      <td>False</td>\n",
       "      <td>False</td>\n",
       "      <td>False</td>\n",
       "      <td>False</td>\n",
       "      <td>False</td>\n",
       "      <td>Night</td>\n",
       "      <td>Night</td>\n",
       "      <td>Day</td>\n",
       "      <td>Day</td>\n",
       "    </tr>\n",
       "    <tr>\n",
       "      <th>4</th>\n",
       "      <td>A-5</td>\n",
       "      <td>3</td>\n",
       "      <td>2016-02-08 07:53:43</td>\n",
       "      <td>2016-02-08 13:53:43</td>\n",
       "      <td>39.172393</td>\n",
       "      <td>-84.492792</td>\n",
       "      <td>39.170476</td>\n",
       "      <td>-84.501798</td>\n",
       "      <td>0.500</td>\n",
       "      <td>At Mitchell Ave/Exit 6 - Accident.</td>\n",
       "      <td>...</td>\n",
       "      <td>False</td>\n",
       "      <td>False</td>\n",
       "      <td>False</td>\n",
       "      <td>False</td>\n",
       "      <td>False</td>\n",
       "      <td>False</td>\n",
       "      <td>Day</td>\n",
       "      <td>Day</td>\n",
       "      <td>Day</td>\n",
       "      <td>Day</td>\n",
       "    </tr>\n",
       "    <tr>\n",
       "      <th>...</th>\n",
       "      <td>...</td>\n",
       "      <td>...</td>\n",
       "      <td>...</td>\n",
       "      <td>...</td>\n",
       "      <td>...</td>\n",
       "      <td>...</td>\n",
       "      <td>...</td>\n",
       "      <td>...</td>\n",
       "      <td>...</td>\n",
       "      <td>...</td>\n",
       "      <td>...</td>\n",
       "      <td>...</td>\n",
       "      <td>...</td>\n",
       "      <td>...</td>\n",
       "      <td>...</td>\n",
       "      <td>...</td>\n",
       "      <td>...</td>\n",
       "      <td>...</td>\n",
       "      <td>...</td>\n",
       "      <td>...</td>\n",
       "      <td>...</td>\n",
       "    </tr>\n",
       "    <tr>\n",
       "      <th>10074</th>\n",
       "      <td>A-10075</td>\n",
       "      <td>2</td>\n",
       "      <td>2016-05-26 15:43:50</td>\n",
       "      <td>2016-05-26 21:43:50</td>\n",
       "      <td>34.217610</td>\n",
       "      <td>-119.046870</td>\n",
       "      <td>34.217930</td>\n",
       "      <td>-119.052820</td>\n",
       "      <td>0.341</td>\n",
       "      <td>At Carmen Dr/Exit 54 - Accident.</td>\n",
       "      <td>...</td>\n",
       "      <td>False</td>\n",
       "      <td>False</td>\n",
       "      <td>False</td>\n",
       "      <td>False</td>\n",
       "      <td>False</td>\n",
       "      <td>False</td>\n",
       "      <td>Day</td>\n",
       "      <td>Day</td>\n",
       "      <td>Day</td>\n",
       "      <td>Day</td>\n",
       "    </tr>\n",
       "    <tr>\n",
       "      <th>10075</th>\n",
       "      <td>A-10076</td>\n",
       "      <td>2</td>\n",
       "      <td>2016-05-26 15:46:34</td>\n",
       "      <td>2016-05-26 21:46:34</td>\n",
       "      <td>33.817320</td>\n",
       "      <td>-118.189310</td>\n",
       "      <td>33.817250</td>\n",
       "      <td>-118.189210</td>\n",
       "      <td>0.008</td>\n",
       "      <td>At Long Beach Blvd/Exit 30B - Accident.</td>\n",
       "      <td>...</td>\n",
       "      <td>False</td>\n",
       "      <td>False</td>\n",
       "      <td>False</td>\n",
       "      <td>False</td>\n",
       "      <td>False</td>\n",
       "      <td>False</td>\n",
       "      <td>Day</td>\n",
       "      <td>Day</td>\n",
       "      <td>Day</td>\n",
       "      <td>Day</td>\n",
       "    </tr>\n",
       "    <tr>\n",
       "      <th>10076</th>\n",
       "      <td>A-10077</td>\n",
       "      <td>2</td>\n",
       "      <td>2016-05-26 15:46:34</td>\n",
       "      <td>2016-05-26 21:46:34</td>\n",
       "      <td>33.941780</td>\n",
       "      <td>-117.273610</td>\n",
       "      <td>33.942700</td>\n",
       "      <td>-117.278950</td>\n",
       "      <td>0.313</td>\n",
       "      <td>At Day St - Accident.</td>\n",
       "      <td>...</td>\n",
       "      <td>False</td>\n",
       "      <td>False</td>\n",
       "      <td>False</td>\n",
       "      <td>False</td>\n",
       "      <td>False</td>\n",
       "      <td>False</td>\n",
       "      <td>Day</td>\n",
       "      <td>Day</td>\n",
       "      <td>Day</td>\n",
       "      <td>Day</td>\n",
       "    </tr>\n",
       "    <tr>\n",
       "      <th>10077</th>\n",
       "      <td>A-10078</td>\n",
       "      <td>2</td>\n",
       "      <td>2016-05-26 15:52:55</td>\n",
       "      <td>2016-05-26 21:52:55</td>\n",
       "      <td>34.065300</td>\n",
       "      <td>-117.524110</td>\n",
       "      <td>34.068860</td>\n",
       "      <td>-117.524110</td>\n",
       "      <td>0.246</td>\n",
       "      <td>At I-10/San Bernardino Fwy - Accident.</td>\n",
       "      <td>...</td>\n",
       "      <td>False</td>\n",
       "      <td>False</td>\n",
       "      <td>False</td>\n",
       "      <td>False</td>\n",
       "      <td>False</td>\n",
       "      <td>False</td>\n",
       "      <td>Day</td>\n",
       "      <td>Day</td>\n",
       "      <td>Day</td>\n",
       "      <td>Day</td>\n",
       "    </tr>\n",
       "    <tr>\n",
       "      <th>10078</th>\n",
       "      <td>A-10079</td>\n",
       "      <td>2</td>\n",
       "      <td>2016-05-26 15:50:14</td>\n",
       "      <td>2016-05-26 21:50:14</td>\n",
       "      <td>34.265420</td>\n",
       "      <td>-118.467240</td>\n",
       "      <td>34.265715</td>\n",
       "      <td>-118.467230</td>\n",
       "      <td>0.020</td>\n",
       "      <td>At Chatsworth St - Accident.</td>\n",
       "      <td>...</td>\n",
       "      <td>False</td>\n",
       "      <td>False</td>\n",
       "      <td>False</td>\n",
       "      <td>False</td>\n",
       "      <td>True</td>\n",
       "      <td>False</td>\n",
       "      <td>Day</td>\n",
       "      <td>Day</td>\n",
       "      <td>Day</td>\n",
       "      <td>Day</td>\n",
       "    </tr>\n",
       "  </tbody>\n",
       "</table>\n",
       "<p>10079 rows × 47 columns</p>\n",
       "</div>"
      ],
      "text/plain": [
       "            ID  Severity          Start_Time            End_Time  Start_Lat  \\\n",
       "0          A-1         3 2016-02-08 00:37:08 2016-02-08 06:37:08  40.108910   \n",
       "1          A-2         2 2016-02-08 05:56:20 2016-02-08 11:56:20  39.865420   \n",
       "2          A-3         2 2016-02-08 06:15:39 2016-02-08 12:15:39  39.102660   \n",
       "3          A-4         2 2016-02-08 06:51:45 2016-02-08 12:51:45  41.062130   \n",
       "4          A-5         3 2016-02-08 07:53:43 2016-02-08 13:53:43  39.172393   \n",
       "...        ...       ...                 ...                 ...        ...   \n",
       "10074  A-10075         2 2016-05-26 15:43:50 2016-05-26 21:43:50  34.217610   \n",
       "10075  A-10076         2 2016-05-26 15:46:34 2016-05-26 21:46:34  33.817320   \n",
       "10076  A-10077         2 2016-05-26 15:46:34 2016-05-26 21:46:34  33.941780   \n",
       "10077  A-10078         2 2016-05-26 15:52:55 2016-05-26 21:52:55  34.065300   \n",
       "10078  A-10079         2 2016-05-26 15:50:14 2016-05-26 21:50:14  34.265420   \n",
       "\n",
       "        Start_Lng    End_Lat     End_Lng  Distance(mi)  \\\n",
       "0      -83.092860  40.112060  -83.031870         3.230   \n",
       "1      -84.062800  39.865010  -84.048730         0.747   \n",
       "2      -84.524680  39.102090  -84.523960         0.055   \n",
       "3      -81.537840  41.062170  -81.535470         0.123   \n",
       "4      -84.492792  39.170476  -84.501798         0.500   \n",
       "...           ...        ...         ...           ...   \n",
       "10074 -119.046870  34.217930 -119.052820         0.341   \n",
       "10075 -118.189310  33.817250 -118.189210         0.008   \n",
       "10076 -117.273610  33.942700 -117.278950         0.313   \n",
       "10077 -117.524110  34.068860 -117.524110         0.246   \n",
       "10078 -118.467240  34.265715 -118.467230         0.020   \n",
       "\n",
       "                                             Description  ...  Roundabout  \\\n",
       "0      Between Sawmill Rd/Exit 20 and OH-315/Olentang...  ...       False   \n",
       "1                     At OH-4/OH-235/Exit 41 - Accident.  ...       False   \n",
       "2                       At I-71/US-50/Exit 1 - Accident.  ...       False   \n",
       "3                        At Dart Ave/Exit 21 - Accident.  ...       False   \n",
       "4                     At Mitchell Ave/Exit 6 - Accident.  ...       False   \n",
       "...                                                  ...  ...         ...   \n",
       "10074                   At Carmen Dr/Exit 54 - Accident.  ...       False   \n",
       "10075            At Long Beach Blvd/Exit 30B - Accident.  ...       False   \n",
       "10076                              At Day St - Accident.  ...       False   \n",
       "10077             At I-10/San Bernardino Fwy - Accident.  ...       False   \n",
       "10078                       At Chatsworth St - Accident.  ...       False   \n",
       "\n",
       "      Station   Stop Traffic_Calming Traffic_Signal Turning_Loop  \\\n",
       "0       False  False           False          False        False   \n",
       "1       False  False           False          False        False   \n",
       "2       False  False           False          False        False   \n",
       "3       False  False           False          False        False   \n",
       "4       False  False           False          False        False   \n",
       "...       ...    ...             ...            ...          ...   \n",
       "10074   False  False           False          False        False   \n",
       "10075   False  False           False          False        False   \n",
       "10076   False  False           False          False        False   \n",
       "10077   False  False           False          False        False   \n",
       "10078   False  False           False           True        False   \n",
       "\n",
       "      Sunrise_Sunset Civil_Twilight Nautical_Twilight Astronomical_Twilight  \n",
       "0              Night          Night             Night                 Night  \n",
       "1              Night          Night             Night                 Night  \n",
       "2              Night          Night             Night                   Day  \n",
       "3              Night          Night               Day                   Day  \n",
       "4                Day            Day               Day                   Day  \n",
       "...              ...            ...               ...                   ...  \n",
       "10074            Day            Day               Day                   Day  \n",
       "10075            Day            Day               Day                   Day  \n",
       "10076            Day            Day               Day                   Day  \n",
       "10077            Day            Day               Day                   Day  \n",
       "10078            Day            Day               Day                   Day  \n",
       "\n",
       "[10079 rows x 47 columns]"
      ]
     },
     "execution_count": 7,
     "metadata": {},
     "output_type": "execute_result"
    }
   ],
   "source": [
    "df"
   ]
  },
  {
   "cell_type": "code",
   "execution_count": 8,
   "metadata": {
    "colab": {
     "base_uri": "https://localhost:8080/"
    },
    "executionInfo": {
     "elapsed": 958,
     "status": "ok",
     "timestamp": 1614873662164,
     "user": {
      "displayName": "Aakash N S",
      "photoUrl": "https://lh3.googleusercontent.com/a-/AOh14GiIWFHtan62vtW1gz2Bv2bxL3rppefcadxzEVxRKQ=s64",
      "userId": "03254185060287524023"
     },
     "user_tz": -330
    },
    "id": "lnQGGWJV93Qy",
    "outputId": "62f95ff0-1e80-4c7b-9528-259d2b4195ae"
   },
   "outputs": [
    {
     "name": "stdout",
     "output_type": "stream",
     "text": [
      "<class 'pandas.core.frame.DataFrame'>\n",
      "RangeIndex: 10079 entries, 0 to 10078\n",
      "Data columns (total 47 columns):\n",
      " #   Column                 Non-Null Count  Dtype         \n",
      "---  ------                 --------------  -----         \n",
      " 0   ID                     10079 non-null  object        \n",
      " 1   Severity               10079 non-null  int64         \n",
      " 2   Start_Time             10079 non-null  datetime64[ns]\n",
      " 3   End_Time               10079 non-null  datetime64[ns]\n",
      " 4   Start_Lat              10079 non-null  float64       \n",
      " 5   Start_Lng              10079 non-null  float64       \n",
      " 6   End_Lat                10079 non-null  float64       \n",
      " 7   End_Lng                10079 non-null  float64       \n",
      " 8   Distance(mi)           10079 non-null  float64       \n",
      " 9   Description            10079 non-null  object        \n",
      " 10  Number                 1661 non-null   float64       \n",
      " 11  Street                 10079 non-null  object        \n",
      " 12  Side                   10079 non-null  object        \n",
      " 13  City                   10079 non-null  object        \n",
      " 14  County                 10079 non-null  object        \n",
      " 15  State                  10079 non-null  object        \n",
      " 16  Zipcode                10073 non-null  object        \n",
      " 17  Country                10079 non-null  object        \n",
      " 18  Timezone               10073 non-null  object        \n",
      " 19  Airport_Code           10072 non-null  object        \n",
      " 20  Weather_Timestamp      10002 non-null  datetime64[ns]\n",
      " 21  Temperature(F)         9964 non-null   float64       \n",
      " 22  Wind_Chill(F)          685 non-null    float64       \n",
      " 23  Humidity(%)            9953 non-null   float64       \n",
      " 24  Pressure(in)           9968 non-null   float64       \n",
      " 25  Visibility(mi)         9933 non-null   float64       \n",
      " 26  Wind_Direction         10001 non-null  object        \n",
      " 27  Wind_Speed(mph)        8420 non-null   float64       \n",
      " 28  Precipitation(in)      593 non-null    float64       \n",
      " 29  Weather_Condition      9963 non-null   object        \n",
      " 30  Amenity                10079 non-null  bool          \n",
      " 31  Bump                   10079 non-null  bool          \n",
      " 32  Crossing               10079 non-null  bool          \n",
      " 33  Give_Way               10079 non-null  bool          \n",
      " 34  Junction               10079 non-null  bool          \n",
      " 35  No_Exit                10079 non-null  bool          \n",
      " 36  Railway                10079 non-null  bool          \n",
      " 37  Roundabout             10079 non-null  bool          \n",
      " 38  Station                10079 non-null  bool          \n",
      " 39  Stop                   10079 non-null  bool          \n",
      " 40  Traffic_Calming        10079 non-null  bool          \n",
      " 41  Traffic_Signal         10079 non-null  bool          \n",
      " 42  Turning_Loop           10079 non-null  bool          \n",
      " 43  Sunrise_Sunset         10079 non-null  object        \n",
      " 44  Civil_Twilight         10079 non-null  object        \n",
      " 45  Nautical_Twilight      10079 non-null  object        \n",
      " 46  Astronomical_Twilight  10079 non-null  object        \n",
      "dtypes: bool(13), datetime64[ns](3), float64(13), int64(1), object(17)\n",
      "memory usage: 2.7+ MB\n"
     ]
    }
   ],
   "source": [
    "df.info()"
   ]
  },
  {
   "cell_type": "code",
   "execution_count": 12,
   "metadata": {
    "colab": {
     "base_uri": "https://localhost:8080/",
     "height": 308
    },
    "executionInfo": {
     "elapsed": 3022,
     "status": "ok",
     "timestamp": 1614873816818,
     "user": {
      "displayName": "Aakash N S",
      "photoUrl": "https://lh3.googleusercontent.com/a-/AOh14GiIWFHtan62vtW1gz2Bv2bxL3rppefcadxzEVxRKQ=s64",
      "userId": "03254185060287524023"
     },
     "user_tz": -330
    },
    "id": "uJGnotnv-WXC",
    "outputId": "98a3a7c2-3d25-4d41-8030-052552de6a0f"
   },
   "outputs": [
    {
     "data": {
      "text/html": [
       "<div>\n",
       "<style scoped>\n",
       "    .dataframe tbody tr th:only-of-type {\n",
       "        vertical-align: middle;\n",
       "    }\n",
       "\n",
       "    .dataframe tbody tr th {\n",
       "        vertical-align: top;\n",
       "    }\n",
       "\n",
       "    .dataframe thead th {\n",
       "        text-align: right;\n",
       "    }\n",
       "</style>\n",
       "<table border=\"1\" class=\"dataframe\">\n",
       "  <thead>\n",
       "    <tr style=\"text-align: right;\">\n",
       "      <th></th>\n",
       "      <th>Severity</th>\n",
       "      <th>Start_Lat</th>\n",
       "      <th>Start_Lng</th>\n",
       "      <th>End_Lat</th>\n",
       "      <th>End_Lng</th>\n",
       "      <th>Distance(mi)</th>\n",
       "      <th>Number</th>\n",
       "      <th>Temperature(F)</th>\n",
       "      <th>Wind_Chill(F)</th>\n",
       "      <th>Humidity(%)</th>\n",
       "      <th>Pressure(in)</th>\n",
       "      <th>Visibility(mi)</th>\n",
       "      <th>Wind_Speed(mph)</th>\n",
       "      <th>Precipitation(in)</th>\n",
       "    </tr>\n",
       "  </thead>\n",
       "  <tbody>\n",
       "    <tr>\n",
       "      <th>count</th>\n",
       "      <td>10079.000000</td>\n",
       "      <td>10079.000000</td>\n",
       "      <td>10079.000000</td>\n",
       "      <td>10079.000000</td>\n",
       "      <td>10079.000000</td>\n",
       "      <td>10079.000000</td>\n",
       "      <td>1661.000000</td>\n",
       "      <td>9964.000000</td>\n",
       "      <td>685.000000</td>\n",
       "      <td>9953.000000</td>\n",
       "      <td>9968.000000</td>\n",
       "      <td>9933.000000</td>\n",
       "      <td>8420.000000</td>\n",
       "      <td>593.000000</td>\n",
       "    </tr>\n",
       "    <tr>\n",
       "      <th>mean</th>\n",
       "      <td>2.231571</td>\n",
       "      <td>36.120753</td>\n",
       "      <td>-116.160333</td>\n",
       "      <td>36.121011</td>\n",
       "      <td>-116.160316</td>\n",
       "      <td>0.584101</td>\n",
       "      <td>8904.011439</td>\n",
       "      <td>63.488509</td>\n",
       "      <td>28.837372</td>\n",
       "      <td>57.809505</td>\n",
       "      <td>29.959805</td>\n",
       "      <td>9.453045</td>\n",
       "      <td>9.561627</td>\n",
       "      <td>0.019612</td>\n",
       "    </tr>\n",
       "    <tr>\n",
       "      <th>std</th>\n",
       "      <td>0.534345</td>\n",
       "      <td>2.346763</td>\n",
       "      <td>11.023818</td>\n",
       "      <td>2.347271</td>\n",
       "      <td>11.024255</td>\n",
       "      <td>2.130590</td>\n",
       "      <td>10609.966254</td>\n",
       "      <td>12.814387</td>\n",
       "      <td>18.963059</td>\n",
       "      <td>20.433399</td>\n",
       "      <td>0.170443</td>\n",
       "      <td>1.885970</td>\n",
       "      <td>4.773086</td>\n",
       "      <td>0.045822</td>\n",
       "    </tr>\n",
       "    <tr>\n",
       "      <th>min</th>\n",
       "      <td>2.000000</td>\n",
       "      <td>32.543392</td>\n",
       "      <td>-123.526160</td>\n",
       "      <td>32.543392</td>\n",
       "      <td>-123.526160</td>\n",
       "      <td>0.000000</td>\n",
       "      <td>1.000000</td>\n",
       "      <td>3.000000</td>\n",
       "      <td>-12.200000</td>\n",
       "      <td>4.000000</td>\n",
       "      <td>27.280000</td>\n",
       "      <td>0.200000</td>\n",
       "      <td>0.000000</td>\n",
       "      <td>0.000000</td>\n",
       "    </tr>\n",
       "    <tr>\n",
       "      <th>25%</th>\n",
       "      <td>2.000000</td>\n",
       "      <td>34.006023</td>\n",
       "      <td>-121.898200</td>\n",
       "      <td>34.006660</td>\n",
       "      <td>-121.898470</td>\n",
       "      <td>0.134000</td>\n",
       "      <td>1699.000000</td>\n",
       "      <td>57.900000</td>\n",
       "      <td>17.400000</td>\n",
       "      <td>44.000000</td>\n",
       "      <td>29.890000</td>\n",
       "      <td>10.000000</td>\n",
       "      <td>5.800000</td>\n",
       "      <td>0.000000</td>\n",
       "    </tr>\n",
       "    <tr>\n",
       "      <th>50%</th>\n",
       "      <td>2.000000</td>\n",
       "      <td>36.751491</td>\n",
       "      <td>-118.343620</td>\n",
       "      <td>36.753610</td>\n",
       "      <td>-118.345100</td>\n",
       "      <td>0.365000</td>\n",
       "      <td>4945.000000</td>\n",
       "      <td>64.000000</td>\n",
       "      <td>26.400000</td>\n",
       "      <td>59.000000</td>\n",
       "      <td>29.960000</td>\n",
       "      <td>10.000000</td>\n",
       "      <td>9.200000</td>\n",
       "      <td>0.000000</td>\n",
       "    </tr>\n",
       "    <tr>\n",
       "      <th>75%</th>\n",
       "      <td>2.000000</td>\n",
       "      <td>37.917291</td>\n",
       "      <td>-117.739927</td>\n",
       "      <td>37.917530</td>\n",
       "      <td>-117.738650</td>\n",
       "      <td>0.564000</td>\n",
       "      <td>12353.000000</td>\n",
       "      <td>70.000000</td>\n",
       "      <td>36.800000</td>\n",
       "      <td>73.000000</td>\n",
       "      <td>30.040000</td>\n",
       "      <td>10.000000</td>\n",
       "      <td>12.700000</td>\n",
       "      <td>0.020000</td>\n",
       "    </tr>\n",
       "    <tr>\n",
       "      <th>max</th>\n",
       "      <td>4.000000</td>\n",
       "      <td>41.964290</td>\n",
       "      <td>-80.005270</td>\n",
       "      <td>41.964290</td>\n",
       "      <td>-79.958150</td>\n",
       "      <td>150.138000</td>\n",
       "      <td>77999.000000</td>\n",
       "      <td>102.900000</td>\n",
       "      <td>101.000000</td>\n",
       "      <td>100.000000</td>\n",
       "      <td>30.620000</td>\n",
       "      <td>30.000000</td>\n",
       "      <td>39.100000</td>\n",
       "      <td>0.370000</td>\n",
       "    </tr>\n",
       "  </tbody>\n",
       "</table>\n",
       "</div>"
      ],
      "text/plain": [
       "           Severity     Start_Lat     Start_Lng       End_Lat       End_Lng  \\\n",
       "count  10079.000000  10079.000000  10079.000000  10079.000000  10079.000000   \n",
       "mean       2.231571     36.120753   -116.160333     36.121011   -116.160316   \n",
       "std        0.534345      2.346763     11.023818      2.347271     11.024255   \n",
       "min        2.000000     32.543392   -123.526160     32.543392   -123.526160   \n",
       "25%        2.000000     34.006023   -121.898200     34.006660   -121.898470   \n",
       "50%        2.000000     36.751491   -118.343620     36.753610   -118.345100   \n",
       "75%        2.000000     37.917291   -117.739927     37.917530   -117.738650   \n",
       "max        4.000000     41.964290    -80.005270     41.964290    -79.958150   \n",
       "\n",
       "       Distance(mi)        Number  Temperature(F)  Wind_Chill(F)  Humidity(%)  \\\n",
       "count  10079.000000   1661.000000     9964.000000     685.000000  9953.000000   \n",
       "mean       0.584101   8904.011439       63.488509      28.837372    57.809505   \n",
       "std        2.130590  10609.966254       12.814387      18.963059    20.433399   \n",
       "min        0.000000      1.000000        3.000000     -12.200000     4.000000   \n",
       "25%        0.134000   1699.000000       57.900000      17.400000    44.000000   \n",
       "50%        0.365000   4945.000000       64.000000      26.400000    59.000000   \n",
       "75%        0.564000  12353.000000       70.000000      36.800000    73.000000   \n",
       "max      150.138000  77999.000000      102.900000     101.000000   100.000000   \n",
       "\n",
       "       Pressure(in)  Visibility(mi)  Wind_Speed(mph)  Precipitation(in)  \n",
       "count   9968.000000     9933.000000      8420.000000         593.000000  \n",
       "mean      29.959805        9.453045         9.561627           0.019612  \n",
       "std        0.170443        1.885970         4.773086           0.045822  \n",
       "min       27.280000        0.200000         0.000000           0.000000  \n",
       "25%       29.890000       10.000000         5.800000           0.000000  \n",
       "50%       29.960000       10.000000         9.200000           0.000000  \n",
       "75%       30.040000       10.000000        12.700000           0.020000  \n",
       "max       30.620000       30.000000        39.100000           0.370000  "
      ]
     },
     "execution_count": 12,
     "metadata": {},
     "output_type": "execute_result"
    }
   ],
   "source": [
    "df.describe()"
   ]
  },
  {
   "cell_type": "code",
   "execution_count": 14,
   "metadata": {
    "colab": {
     "base_uri": "https://localhost:8080/"
    },
    "executionInfo": {
     "elapsed": 1025,
     "status": "ok",
     "timestamp": 1614874091248,
     "user": {
      "displayName": "Aakash N S",
      "photoUrl": "https://lh3.googleusercontent.com/a-/AOh14GiIWFHtan62vtW1gz2Bv2bxL3rppefcadxzEVxRKQ=s64",
      "userId": "03254185060287524023"
     },
     "user_tz": -330
    },
    "id": "VY06MtLb-WT8",
    "outputId": "34ce54c8-1cf3-4df6-d5e4-9e0a3362a729"
   },
   "outputs": [
    {
     "data": {
      "text/plain": [
       "14"
      ]
     },
     "execution_count": 14,
     "metadata": {},
     "output_type": "execute_result"
    }
   ],
   "source": [
    "numerics = ['int16', 'int32', 'int64', 'float16', 'float32', 'float64']\n",
    "\n",
    "numeric_df = df.select_dtypes(include=numerics)\n",
    "len(numeric_df.columns)"
   ]
  },
  {
   "cell_type": "markdown",
   "metadata": {
    "id": "QEM6L_SJAdcc"
   },
   "source": [
    "Percentage of missing values per column"
   ]
  },
  {
   "cell_type": "code",
   "execution_count": 15,
   "metadata": {
    "colab": {
     "base_uri": "https://localhost:8080/"
    },
    "executionInfo": {
     "elapsed": 4273,
     "status": "ok",
     "timestamp": 1614874372813,
     "user": {
      "displayName": "Aakash N S",
      "photoUrl": "https://lh3.googleusercontent.com/a-/AOh14GiIWFHtan62vtW1gz2Bv2bxL3rppefcadxzEVxRKQ=s64",
      "userId": "03254185060287524023"
     },
     "user_tz": -330
    },
    "id": "P-DxObWa-WRP",
    "outputId": "d254ceea-f9f4-45e6-dd2e-8a1c4e8438b3"
   },
   "outputs": [
    {
     "data": {
      "text/plain": [
       "Precipitation(in)        0.941165\n",
       "Wind_Chill(F)            0.932037\n",
       "Number                   0.835202\n",
       "Wind_Speed(mph)          0.164600\n",
       "Visibility(mi)           0.014486\n",
       "Humidity(%)              0.012501\n",
       "Weather_Condition        0.011509\n",
       "Temperature(F)           0.011410\n",
       "Pressure(in)             0.011013\n",
       "Wind_Direction           0.007739\n",
       "Weather_Timestamp        0.007640\n",
       "Airport_Code             0.000695\n",
       "Timezone                 0.000595\n",
       "Zipcode                  0.000595\n",
       "Nautical_Twilight        0.000000\n",
       "Civil_Twilight           0.000000\n",
       "Sunrise_Sunset           0.000000\n",
       "Bump                     0.000000\n",
       "Turning_Loop             0.000000\n",
       "Traffic_Calming          0.000000\n",
       "Stop                     0.000000\n",
       "Crossing                 0.000000\n",
       "Amenity                  0.000000\n",
       "Junction                 0.000000\n",
       "No_Exit                  0.000000\n",
       "Railway                  0.000000\n",
       "Roundabout               0.000000\n",
       "Traffic_Signal           0.000000\n",
       "Station                  0.000000\n",
       "Give_Way                 0.000000\n",
       "ID                       0.000000\n",
       "Severity                 0.000000\n",
       "Country                  0.000000\n",
       "State                    0.000000\n",
       "County                   0.000000\n",
       "City                     0.000000\n",
       "Side                     0.000000\n",
       "Street                   0.000000\n",
       "Description              0.000000\n",
       "Distance(mi)             0.000000\n",
       "End_Lng                  0.000000\n",
       "End_Lat                  0.000000\n",
       "Start_Lng                0.000000\n",
       "Start_Lat                0.000000\n",
       "End_Time                 0.000000\n",
       "Start_Time               0.000000\n",
       "Astronomical_Twilight    0.000000\n",
       "dtype: float64"
      ]
     },
     "execution_count": 15,
     "metadata": {},
     "output_type": "execute_result"
    }
   ],
   "source": [
    "missing_percentages = df.isna().sum().sort_values(ascending=False) / len(df)\n",
    "missing_percentages"
   ]
  },
  {
   "cell_type": "code",
   "execution_count": 16,
   "metadata": {
    "colab": {
     "base_uri": "https://localhost:8080/"
    },
    "executionInfo": {
     "elapsed": 1071,
     "status": "ok",
     "timestamp": 1614874419962,
     "user": {
      "displayName": "Aakash N S",
      "photoUrl": "https://lh3.googleusercontent.com/a-/AOh14GiIWFHtan62vtW1gz2Bv2bxL3rppefcadxzEVxRKQ=s64",
      "userId": "03254185060287524023"
     },
     "user_tz": -330
    },
    "id": "u7UxjIoqBARH",
    "outputId": "8c88ebc5-2766-4afa-e37c-7f437fcb5b10"
   },
   "outputs": [
    {
     "data": {
      "text/plain": [
       "pandas.core.series.Series"
      ]
     },
     "execution_count": 16,
     "metadata": {},
     "output_type": "execute_result"
    }
   ],
   "source": [
    "type(missing_percentages)"
   ]
  },
  {
   "cell_type": "code",
   "execution_count": 18,
   "metadata": {
    "colab": {
     "base_uri": "https://localhost:8080/",
     "height": 282
    },
    "executionInfo": {
     "elapsed": 1007,
     "status": "ok",
     "timestamp": 1614874566409,
     "user": {
      "displayName": "Aakash N S",
      "photoUrl": "https://lh3.googleusercontent.com/a-/AOh14GiIWFHtan62vtW1gz2Bv2bxL3rppefcadxzEVxRKQ=s64",
      "userId": "03254185060287524023"
     },
     "user_tz": -330
    },
    "id": "ID8Rs0RJ93Lf",
    "outputId": "130ae7e4-36d5-421b-f348-f329e500a8d2"
   },
   "outputs": [
    {
     "name": "stderr",
     "output_type": "stream",
     "text": [
      "Matplotlib is building the font cache; this may take a moment.\n"
     ]
    },
    {
     "data": {
      "text/plain": [
       "<Axes: >"
      ]
     },
     "execution_count": 18,
     "metadata": {},
     "output_type": "execute_result"
    },
    {
     "data": {
      "image/png": "[encoded data removed]",
      "text/plain": [
       "<Figure size 640x480 with 1 Axes>"
      ]
     },
     "metadata": {},
     "output_type": "display_data"
    }
   ],
   "source": [
    "missing_percentages[missing_percentages != 0].plot(kind='barh')"
   ]
  },
  {
   "cell_type": "markdown",
   "metadata": {
    "id": "a84gqD0KBykW"
   },
   "source": [
    "Remove columns that you don't want to use."
   ]
  },
  {
   "cell_type": "code",
   "execution_count": null,
   "metadata": {
    "id": "UdEDl8yR93EM"
   },
   "outputs": [],
   "source": []
  },
  {
   "cell_type": "markdown",
   "metadata": {
    "id": "RvM47Xfp7X36"
   },
   "source": [
    "## Exploratory Analysis and Visualization\n",
    "\n",
    "Columns we'll analyze:\n",
    "\n",
    "1. City\n",
    "2. Start Time\n",
    "3. Start Lat, Start Lng\n",
    "4. Temperature\n",
    "5. Weather Condition"
   ]
  },
  {
   "cell_type": "code",
   "execution_count": 19,
   "metadata": {
    "colab": {
     "base_uri": "https://localhost:8080/"
    },
    "executionInfo": {
     "elapsed": 679,
     "status": "ok",
     "timestamp": 1614874664754,
     "user": {
      "displayName": "Aakash N S",
      "photoUrl": "https://lh3.googleusercontent.com/a-/AOh14GiIWFHtan62vtW1gz2Bv2bxL3rppefcadxzEVxRKQ=s64",
      "userId": "03254185060287524023"
     },
     "user_tz": -330
    },
    "id": "uiEYZ3Q9B44q",
    "outputId": "9456fab5-5534-4cc7-dede-b764206fc146"
   },
   "outputs": [
    {
     "data": {
      "text/plain": [
       "Index(['ID', 'Severity', 'Start_Time', 'End_Time', 'Start_Lat', 'Start_Lng',\n",
       "       'End_Lat', 'End_Lng', 'Distance(mi)', 'Description', 'Number', 'Street',\n",
       "       'Side', 'City', 'County', 'State', 'Zipcode', 'Country', 'Timezone',\n",
       "       'Airport_Code', 'Weather_Timestamp', 'Temperature(F)', 'Wind_Chill(F)',\n",
       "       'Humidity(%)', 'Pressure(in)', 'Visibility(mi)', 'Wind_Direction',\n",
       "       'Wind_Speed(mph)', 'Precipitation(in)', 'Weather_Condition', 'Amenity',\n",
       "       'Bump', 'Crossing', 'Give_Way', 'Junction', 'No_Exit', 'Railway',\n",
       "       'Roundabout', 'Station', 'Stop', 'Traffic_Calming', 'Traffic_Signal',\n",
       "       'Turning_Loop', 'Sunrise_Sunset', 'Civil_Twilight', 'Nautical_Twilight',\n",
       "       'Astronomical_Twilight'],\n",
       "      dtype='object')"
      ]
     },
     "execution_count": 19,
     "metadata": {},
     "output_type": "execute_result"
    }
   ],
   "source": [
    "df.columns"
   ]
  },
  {
   "cell_type": "markdown",
   "metadata": {
    "id": "3rz2quexIZac"
   },
   "source": [
    "### City"
   ]
  },
  {
   "cell_type": "code",
   "execution_count": 20,
   "metadata": {
    "colab": {
     "base_uri": "https://localhost:8080/"
    },
    "executionInfo": {
     "elapsed": 1068,
     "status": "ok",
     "timestamp": 1614874855839,
     "user": {
      "displayName": "Aakash N S",
      "photoUrl": "https://lh3.googleusercontent.com/a-/AOh14GiIWFHtan62vtW1gz2Bv2bxL3rppefcadxzEVxRKQ=s64",
      "userId": "03254185060287524023"
     },
     "user_tz": -330
    },
    "id": "gcdVkqfpB4oK",
    "outputId": "5fdade1f-8cd3-42b1-8c86-f308ca5472b3"
   },
   "outputs": [
    {
     "data": {
      "text/plain": [
       "0               Dublin\n",
       "1               Dayton\n",
       "2           Cincinnati\n",
       "3                Akron\n",
       "4           Cincinnati\n",
       "             ...      \n",
       "10074        Camarillo\n",
       "10075       Long Beach\n",
       "10076    Moreno Valley\n",
       "10077          Ontario\n",
       "10078    Mission Hills\n",
       "Name: City, Length: 10079, dtype: object"
      ]
     },
     "execution_count": 20,
     "metadata": {},
     "output_type": "execute_result"
    }
   ],
   "source": [
    "df.City"
   ]
  },
  {
   "cell_type": "code",
   "execution_count": 21,
   "metadata": {
    "colab": {
     "base_uri": "https://localhost:8080/"
    },
    "executionInfo": {
     "elapsed": 1090,
     "status": "ok",
     "timestamp": 1614874924894,
     "user": {
      "displayName": "Aakash N S",
      "photoUrl": "https://lh3.googleusercontent.com/a-/AOh14GiIWFHtan62vtW1gz2Bv2bxL3rppefcadxzEVxRKQ=s64",
      "userId": "03254185060287524023"
     },
     "user_tz": -330
    },
    "id": "lK5ve5iWB4lI",
    "outputId": "0274b261-7e60-4a3c-d6ea-efdb159d15ae"
   },
   "outputs": [
    {
     "data": {
      "text/plain": [
       "806"
      ]
     },
     "execution_count": 21,
     "metadata": {},
     "output_type": "execute_result"
    }
   ],
   "source": [
    "cities = df.City.unique()\n",
    "len(cities)"
   ]
  },
  {
   "cell_type": "code",
   "execution_count": 22,
   "metadata": {
    "colab": {
     "base_uri": "https://localhost:8080/"
    },
    "executionInfo": {
     "elapsed": 1184,
     "status": "ok",
     "timestamp": 1614875085346,
     "user": {
      "displayName": "Aakash N S",
      "photoUrl": "https://lh3.googleusercontent.com/a-/AOh14GiIWFHtan62vtW1gz2Bv2bxL3rppefcadxzEVxRKQ=s64",
      "userId": "03254185060287524023"
     },
     "user_tz": -330
    },
    "id": "LmgK4XQ0B4dy",
    "outputId": "2ffaec48-8f33-465a-95c0-c95bca313b8f"
   },
   "outputs": [
    {
     "data": {
      "text/plain": [
       "Los Angeles    779\n",
       "Sacramento     398\n",
       "San Jose       367\n",
       "San Diego      306\n",
       "Oakland        190\n",
       "              ... \n",
       "Topeka           1\n",
       "Ligonier         1\n",
       "Euclid           1\n",
       "Zelienople       1\n",
       "Jacumba          1\n",
       "Name: City, Length: 806, dtype: int64"
      ]
     },
     "execution_count": 22,
     "metadata": {},
     "output_type": "execute_result"
    }
   ],
   "source": [
    "cities_by_accident = df.City.value_counts()\n",
    "cities_by_accident"
   ]
  },
  {
   "cell_type": "code",
   "execution_count": 23,
   "metadata": {
    "colab": {
     "base_uri": "https://localhost:8080/"
    },
    "executionInfo": {
     "elapsed": 895,
     "status": "ok",
     "timestamp": 1614875147681,
     "user": {
      "displayName": "Aakash N S",
      "photoUrl": "https://lh3.googleusercontent.com/a-/AOh14GiIWFHtan62vtW1gz2Bv2bxL3rppefcadxzEVxRKQ=s64",
      "userId": "03254185060287524023"
     },
     "user_tz": -330
    },
    "id": "X0nan3xu7Vtq",
    "outputId": "ccbf47bd-65f0-462a-c615-95c983bfc944"
   },
   "outputs": [
    {
     "data": {
      "text/plain": [
       "Los Angeles       779\n",
       "Sacramento        398\n",
       "San Jose          367\n",
       "San Diego         306\n",
       "Oakland           190\n",
       "San Francisco     150\n",
       "Riverside         125\n",
       "Long Beach        115\n",
       "Cincinnati        113\n",
       "Columbus          113\n",
       "San Bernardino    104\n",
       "Anaheim           103\n",
       "Livermore         102\n",
       "Corona            100\n",
       "Hayward            94\n",
       "Fremont            85\n",
       "Ontario            82\n",
       "Fairfield          81\n",
       "Cleveland          73\n",
       "Pleasanton         70\n",
       "Name: City, dtype: int64"
      ]
     },
     "execution_count": 23,
     "metadata": {},
     "output_type": "execute_result"
    }
   ],
   "source": [
    "cities_by_accident[:20]"
   ]
  },
  {
   "cell_type": "code",
   "execution_count": 24,
   "metadata": {
    "colab": {
     "base_uri": "https://localhost:8080/"
    },
    "executionInfo": {
     "elapsed": 683,
     "status": "ok",
     "timestamp": 1614875664816,
     "user": {
      "displayName": "Aakash N S",
      "photoUrl": "https://lh3.googleusercontent.com/a-/AOh14GiIWFHtan62vtW1gz2Bv2bxL3rppefcadxzEVxRKQ=s64",
      "userId": "03254185060287524023"
     },
     "user_tz": -330
    },
    "id": "5FLQkPvZFuF8",
    "outputId": "20a7a7ec-94e0-47a4-ee0c-90ca4cc3af4b"
   },
   "outputs": [
    {
     "data": {
      "text/plain": [
       "pandas.core.series.Series"
      ]
     },
     "execution_count": 24,
     "metadata": {},
     "output_type": "execute_result"
    }
   ],
   "source": [
    "type(cities_by_accident)"
   ]
  },
  {
   "cell_type": "code",
   "execution_count": 25,
   "metadata": {
    "colab": {
     "base_uri": "https://localhost:8080/",
     "height": 282
    },
    "executionInfo": {
     "elapsed": 1082,
     "status": "ok",
     "timestamp": 1614875444282,
     "user": {
      "displayName": "Aakash N S",
      "photoUrl": "https://lh3.googleusercontent.com/a-/AOh14GiIWFHtan62vtW1gz2Bv2bxL3rppefcadxzEVxRKQ=s64",
      "userId": "03254185060287524023"
     },
     "user_tz": -330
    },
    "id": "uq4X__76EvDy",
    "outputId": "eac8091e-3a50-485f-a9ce-436449df55be"
   },
   "outputs": [
    {
     "data": {
      "text/plain": [
       "<Axes: >"
      ]
     },
     "execution_count": 25,
     "metadata": {},
     "output_type": "execute_result"
    },
    {
     "data": {
      "image/png": "[encoded data removed]",
      "text/plain": [
       "<Figure size 640x480 with 1 Axes>"
      ]
     },
     "metadata": {},
     "output_type": "display_data"
    }
   ],
   "source": [
    "cities_by_accident[:20].plot(kind='barh')"
   ]
  },
  {
   "cell_type": "code",
   "execution_count": 27,
   "metadata": {
    "executionInfo": {
     "elapsed": 1305,
     "status": "ok",
     "timestamp": 1614875618552,
     "user": {
      "displayName": "Aakash N S",
      "photoUrl": "https://lh3.googleusercontent.com/a-/AOh14GiIWFHtan62vtW1gz2Bv2bxL3rppefcadxzEVxRKQ=s64",
      "userId": "03254185060287524023"
     },
     "user_tz": -330
    },
    "id": "IarEBz5OEvAn"
   },
   "outputs": [],
   "source": [
    "import seaborn as sns\n",
    "sns.set_style(\"darkgrid\")"
   ]
  },
  {
   "cell_type": "code",
   "execution_count": 28,
   "metadata": {
    "colab": {
     "base_uri": "https://localhost:8080/",
     "height": 300
    },
    "executionInfo": {
     "elapsed": 2404,
     "status": "ok",
     "timestamp": 1614876009723,
     "user": {
      "displayName": "Aakash N S",
      "photoUrl": "https://lh3.googleusercontent.com/a-/AOh14GiIWFHtan62vtW1gz2Bv2bxL3rppefcadxzEVxRKQ=s64",
      "userId": "03254185060287524023"
     },
     "user_tz": -330
    },
    "id": "kCuWqfPCFnSu",
    "outputId": "aa8fcbe7-eecd-42bd-d31f-1072ab14635d"
   },
   "outputs": [
    {
     "data": {
      "text/plain": [
       "<Axes: xlabel='City', ylabel='Count'>"
      ]
     },
     "execution_count": 28,
     "metadata": {},
     "output_type": "execute_result"
    },
    {
     "data": {
      "image/png": "[encoded data removed]",
      "text/plain": [
       "<Figure size 640x480 with 1 Axes>"
      ]
     },
     "metadata": {},
     "output_type": "display_data"
    }
   ],
   "source": [
    "sns.histplot(cities_by_accident, log_scale=True)"
   ]
  },
  {
   "cell_type": "code",
   "execution_count": 29,
   "metadata": {
    "colab": {
     "base_uri": "https://localhost:8080/"
    },
    "executionInfo": {
     "elapsed": 1040,
     "status": "ok",
     "timestamp": 1614876157377,
     "user": {
      "displayName": "Aakash N S",
      "photoUrl": "https://lh3.googleusercontent.com/a-/AOh14GiIWFHtan62vtW1gz2Bv2bxL3rppefcadxzEVxRKQ=s64",
      "userId": "03254185060287524023"
     },
     "user_tz": -330
    },
    "id": "j8GBvN1XHeKL",
    "outputId": "2179cb68-b778-4401-9689-6e287e1beb75"
   },
   "outputs": [
    {
     "data": {
      "text/plain": [
       "Davenport          1\n",
       "Commerce           1\n",
       "Westmorland        1\n",
       "Victorville        1\n",
       "Cedarpines Park    1\n",
       "                  ..\n",
       "Topeka             1\n",
       "Ligonier           1\n",
       "Euclid             1\n",
       "Zelienople         1\n",
       "Jacumba            1\n",
       "Name: City, Length: 225, dtype: int64"
      ]
     },
     "execution_count": 29,
     "metadata": {},
     "output_type": "execute_result"
    }
   ],
   "source": [
    "cities_by_accident[cities_by_accident == 1]"
   ]
  },
  {
   "cell_type": "markdown",
   "metadata": {
    "id": "23vI2-8iIUui"
   },
   "source": [
    "### Start Time"
   ]
  },
  {
   "cell_type": "code",
   "execution_count": 30,
   "metadata": {
    "colab": {
     "base_uri": "https://localhost:8080/"
    },
    "executionInfo": {
     "elapsed": 937,
     "status": "ok",
     "timestamp": 1614876378249,
     "user": {
      "displayName": "Aakash N S",
      "photoUrl": "https://lh3.googleusercontent.com/a-/AOh14GiIWFHtan62vtW1gz2Bv2bxL3rppefcadxzEVxRKQ=s64",
      "userId": "03254185060287524023"
     },
     "user_tz": -330
    },
    "id": "juz0_WHIILWU",
    "outputId": "c8cf7a32-e0b0-4116-cb7c-244e82955018"
   },
   "outputs": [
    {
     "data": {
      "text/plain": [
       "0       2016-02-08 00:37:08\n",
       "1       2016-02-08 05:56:20\n",
       "2       2016-02-08 06:15:39\n",
       "3       2016-02-08 06:51:45\n",
       "4       2016-02-08 07:53:43\n",
       "                ...        \n",
       "10074   2016-05-26 15:43:50\n",
       "10075   2016-05-26 15:46:34\n",
       "10076   2016-05-26 15:46:34\n",
       "10077   2016-05-26 15:52:55\n",
       "10078   2016-05-26 15:50:14\n",
       "Name: Start_Time, Length: 10079, dtype: datetime64[ns]"
      ]
     },
     "execution_count": 30,
     "metadata": {},
     "output_type": "execute_result"
    }
   ],
   "source": [
    "df.Start_Time"
   ]
  },
  {
   "cell_type": "code",
   "execution_count": 31,
   "metadata": {
    "executionInfo": {
     "elapsed": 663,
     "status": "ok",
     "timestamp": 1614876699467,
     "user": {
      "displayName": "Aakash N S",
      "photoUrl": "https://lh3.googleusercontent.com/a-/AOh14GiIWFHtan62vtW1gz2Bv2bxL3rppefcadxzEVxRKQ=s64",
      "userId": "03254185060287524023"
     },
     "user_tz": -330
    },
    "id": "a7R3_lA2ILTc"
   },
   "outputs": [],
   "source": [
    "df.Start_Time = pd.to_datetime(df.Start_Time)"
   ]
  },
  {
   "cell_type": "markdown",
   "metadata": {
    "id": "Ir0pHVurKpNe"
   },
   "source": [
    "- Figure out how to show percentages"
   ]
  },
  {
   "cell_type": "code",
   "execution_count": 32,
   "metadata": {
    "colab": {
     "base_uri": "https://localhost:8080/",
     "height": 351
    },
    "executionInfo": {
     "elapsed": 1571,
     "status": "ok",
     "timestamp": 1614876965653,
     "user": {
      "displayName": "Aakash N S",
      "photoUrl": "https://lh3.googleusercontent.com/a-/AOh14GiIWFHtan62vtW1gz2Bv2bxL3rppefcadxzEVxRKQ=s64",
      "userId": "03254185060287524023"
     },
     "user_tz": -330
    },
    "id": "V_XF4vTdHeHb",
    "outputId": "0384db9b-5513-4901-b45b-cfaac006791b"
   },
   "outputs": [
    {
     "name": "stderr",
     "output_type": "stream",
     "text": [
      "C:\\Users\\HP\\AppData\\Local\\Temp\\ipykernel_17952\\362819596.py:1: UserWarning: \n",
      "\n",
      "`distplot` is a deprecated function and will be removed in seaborn v0.14.0.\n",
      "\n",
      "Please adapt your code to use either `displot` (a figure-level function with\n",
      "similar flexibility) or `histplot` (an axes-level function for histograms).\n",
      "\n",
      "For a guide to updating your code to use the new functions, please see\n",
      "https://gist.github.com/mwaskom/de44147ed2974457ad6372750bbe5751\n",
      "\n",
      "  sns.distplot(df.Start_Time.dt.hour, bins=24, kde=False, norm_hist=True)\n"
     ]
    },
    {
     "data": {
      "text/plain": [
       "<Axes: xlabel='Start_Time'>"
      ]
     },
     "execution_count": 32,
     "metadata": {},
     "output_type": "execute_result"
    },
    {
     "data": {
      "image/png": "[encoded data removed]",
      "text/plain": [
       "<Figure size 640x480 with 1 Axes>"
      ]
     },
     "metadata": {},
     "output_type": "display_data"
    }
   ],
   "source": [
    "sns.distplot(df.Start_Time.dt.hour, bins=24, kde=False, norm_hist=True)"
   ]
  },
  {
   "cell_type": "markdown",
   "metadata": {
    "id": "i6RsW8PZK1nY"
   },
   "source": [
    "- A high percentage of accidents occur between 6 am to 10 am (probably people in a hurry to get to work)\n",
    "- Next higest percentage is 3 pm to 6 pm."
   ]
  },
  {
   "cell_type": "code",
   "execution_count": 33,
   "metadata": {
    "colab": {
     "base_uri": "https://localhost:8080/",
     "height": 351
    },
    "executionInfo": {
     "elapsed": 1436,
     "status": "ok",
     "timestamp": 1614877231158,
     "user": {
      "displayName": "Aakash N S",
      "photoUrl": "https://lh3.googleusercontent.com/a-/AOh14GiIWFHtan62vtW1gz2Bv2bxL3rppefcadxzEVxRKQ=s64",
      "userId": "03254185060287524023"
     },
     "user_tz": -330
    },
    "id": "adct6zrOJS4j",
    "outputId": "4d78f114-742d-4bf2-a655-46f8880b7fd5"
   },
   "outputs": [
    {
     "name": "stderr",
     "output_type": "stream",
     "text": [
      "C:\\Users\\HP\\AppData\\Local\\Temp\\ipykernel_17952\\308908771.py:1: UserWarning: \n",
      "\n",
      "`distplot` is a deprecated function and will be removed in seaborn v0.14.0.\n",
      "\n",
      "Please adapt your code to use either `displot` (a figure-level function with\n",
      "similar flexibility) or `histplot` (an axes-level function for histograms).\n",
      "\n",
      "For a guide to updating your code to use the new functions, please see\n",
      "https://gist.github.com/mwaskom/de44147ed2974457ad6372750bbe5751\n",
      "\n",
      "  sns.distplot(df.Start_Time.dt.dayofweek, bins=7, kde=False, norm_hist=True)\n"
     ]
    },
    {
     "data": {
      "text/plain": [
       "<Axes: xlabel='Start_Time'>"
      ]
     },
     "execution_count": 33,
     "metadata": {},
     "output_type": "execute_result"
    },
    {
     "data": {
      "image/png": "[encoded data removed]",
      "text/plain": [
       "<Figure size 640x480 with 1 Axes>"
      ]
     },
     "metadata": {},
     "output_type": "display_data"
    }
   ],
   "source": [
    "sns.distplot(df.Start_Time.dt.dayofweek, bins=7, kde=False, norm_hist=True)"
   ]
  },
  {
   "cell_type": "markdown",
   "metadata": {
    "id": "xIMI1CEeL_vs"
   },
   "source": [
    "Is the distribution of accidents by hour the same on weekends as on weekdays."
   ]
  },
  {
   "cell_type": "code",
   "execution_count": 34,
   "metadata": {
    "colab": {
     "base_uri": "https://localhost:8080/",
     "height": 351
    },
    "executionInfo": {
     "elapsed": 1379,
     "status": "ok",
     "timestamp": 1614877436420,
     "user": {
      "displayName": "Aakash N S",
      "photoUrl": "https://lh3.googleusercontent.com/a-/AOh14GiIWFHtan62vtW1gz2Bv2bxL3rppefcadxzEVxRKQ=s64",
      "userId": "03254185060287524023"
     },
     "user_tz": -330
    },
    "id": "BJiZUABzJS16",
    "outputId": "6b3705d1-bc9b-47a0-ddfa-08c790d25a37"
   },
   "outputs": [
    {
     "name": "stderr",
     "output_type": "stream",
     "text": [
      "C:\\Users\\HP\\AppData\\Local\\Temp\\ipykernel_17952\\3630331899.py:2: UserWarning: \n",
      "\n",
      "`distplot` is a deprecated function and will be removed in seaborn v0.14.0.\n",
      "\n",
      "Please adapt your code to use either `displot` (a figure-level function with\n",
      "similar flexibility) or `histplot` (an axes-level function for histograms).\n",
      "\n",
      "For a guide to updating your code to use the new functions, please see\n",
      "https://gist.github.com/mwaskom/de44147ed2974457ad6372750bbe5751\n",
      "\n",
      "  sns.distplot(sundays_start_time.dt.hour, bins=24, kde=False, norm_hist=True)\n"
     ]
    },
    {
     "data": {
      "text/plain": [
       "<Axes: xlabel='Start_Time'>"
      ]
     },
     "execution_count": 34,
     "metadata": {},
     "output_type": "execute_result"
    },
    {
     "data": {
      "image/png": "[encoded data removed]",
      "text/plain": [
       "<Figure size 640x480 with 1 Axes>"
      ]
     },
     "metadata": {},
     "output_type": "display_data"
    }
   ],
   "source": [
    "sundays_start_time = df.Start_Time[df.Start_Time.dt.dayofweek == 6]\n",
    "sns.distplot(sundays_start_time.dt.hour, bins=24, kde=False, norm_hist=True)"
   ]
  },
  {
   "cell_type": "code",
   "execution_count": 38,
   "metadata": {
    "colab": {
     "base_uri": "https://localhost:8080/",
     "height": 352
    },
    "executionInfo": {
     "elapsed": 1583,
     "status": "ok",
     "timestamp": 1614877474895,
     "user": {
      "displayName": "Aakash N S",
      "photoUrl": "https://lh3.googleusercontent.com/a-/AOh14GiIWFHtan62vtW1gz2Bv2bxL3rppefcadxzEVxRKQ=s64",
      "userId": "03254185060287524023"
     },
     "user_tz": -330
    },
    "id": "q4AEgnRKEAMS",
    "outputId": "a1d8f82f-d480-4888-8282-ec3fc37d1cef"
   },
   "outputs": [
    {
     "name": "stderr",
     "output_type": "stream",
     "text": [
      "C:\\Users\\HP\\AppData\\Local\\Temp\\ipykernel_17952\\4268565558.py:2: UserWarning: \n",
      "\n",
      "`distplot` is a deprecated function and will be removed in seaborn v0.14.0.\n",
      "\n",
      "Please adapt your code to use either `displot` (a figure-level function with\n",
      "similar flexibility) or `histplot` (an axes-level function for histograms).\n",
      "\n",
      "For a guide to updating your code to use the new functions, please see\n",
      "https://gist.github.com/mwaskom/de44147ed2974457ad6372750bbe5751\n",
      "\n",
      "  sns.distplot(monday_start_time.dt.hour, bins=24, kde=False, norm_hist=True)\n"
     ]
    },
    {
     "data": {
      "text/plain": [
       "<Axes: xlabel='Start_Time'>"
      ]
     },
     "execution_count": 38,
     "metadata": {},
     "output_type": "execute_result"
    },
    {
     "data": {
      "image/png": "[encoded data removed]",
      "text/plain": [
       "<Figure size 640x480 with 1 Axes>"
      ]
     },
     "metadata": {},
     "output_type": "display_data"
    }
   ],
   "source": [
    "monday_start_time = df.Start_Time[df.Start_Time.dt.dayofweek == 0]\n",
    "sns.distplot(monday_start_time.dt.hour, bins=24, kde=False, norm_hist=True)"
   ]
  },
  {
   "cell_type": "markdown",
   "metadata": {
    "id": "JwEdvO-oMt6h"
   },
   "source": [
    "On Sundays, the peak occurs between 10 am and 3 pm, unlike weekdays"
   ]
  },
  {
   "cell_type": "markdown",
   "metadata": {
    "id": "8zGtl75mNd2d"
   },
   "source": [
    "Can you explain the month-wise trend of accidents?\n",
    "\n",
    "- Much data is missing for 2016. Maybe even 2017.\n",
    "- There seems to be some issue with the Bing data"
   ]
  },
  {
   "cell_type": "markdown",
   "metadata": {
    "id": "RNxlLx1EPPkH"
   },
   "source": [
    "- Consider excluding Bing data, seems to have issues."
   ]
  },
  {
   "cell_type": "markdown",
   "metadata": {
    "id": "uxJ8j-L3Pips"
   },
   "source": [
    "### Start Latitude & Longitude\n"
   ]
  },
  {
   "cell_type": "code",
   "execution_count": 41,
   "metadata": {
    "colab": {
     "base_uri": "https://localhost:8080/"
    },
    "executionInfo": {
     "elapsed": 1084,
     "status": "ok",
     "timestamp": 1614878252200,
     "user": {
      "displayName": "Aakash N S",
      "photoUrl": "https://lh3.googleusercontent.com/a-/AOh14GiIWFHtan62vtW1gz2Bv2bxL3rppefcadxzEVxRKQ=s64",
      "userId": "03254185060287524023"
     },
     "user_tz": -330
    },
    "id": "SaHT2yIhPhqs",
    "outputId": "c2cef821-b963-436e-8638-5063e8d38284"
   },
   "outputs": [
    {
     "data": {
      "text/plain": [
       "0        40.108910\n",
       "1        39.865420\n",
       "2        39.102660\n",
       "3        41.062130\n",
       "4        39.172393\n",
       "           ...    \n",
       "10074    34.217610\n",
       "10075    33.817320\n",
       "10076    33.941780\n",
       "10077    34.065300\n",
       "10078    34.265420\n",
       "Name: Start_Lat, Length: 10079, dtype: float64"
      ]
     },
     "execution_count": 41,
     "metadata": {},
     "output_type": "execute_result"
    }
   ],
   "source": [
    "df.Start_Lat"
   ]
  },
  {
   "cell_type": "code",
   "execution_count": 42,
   "metadata": {
    "colab": {
     "base_uri": "https://localhost:8080/"
    },
    "executionInfo": {
     "elapsed": 1029,
     "status": "ok",
     "timestamp": 1614878272602,
     "user": {
      "displayName": "Aakash N S",
      "photoUrl": "https://lh3.googleusercontent.com/a-/AOh14GiIWFHtan62vtW1gz2Bv2bxL3rppefcadxzEVxRKQ=s64",
      "userId": "03254185060287524023"
     },
     "user_tz": -330
    },
    "id": "OACwujEyPhn_",
    "outputId": "3a5408d9-2554-4b8c-e12c-6604ae678a00"
   },
   "outputs": [
    {
     "data": {
      "text/plain": [
       "0        -83.092860\n",
       "1        -84.062800\n",
       "2        -84.524680\n",
       "3        -81.537840\n",
       "4        -84.492792\n",
       "            ...    \n",
       "10074   -119.046870\n",
       "10075   -118.189310\n",
       "10076   -117.273610\n",
       "10077   -117.524110\n",
       "10078   -118.467240\n",
       "Name: Start_Lng, Length: 10079, dtype: float64"
      ]
     },
     "execution_count": 42,
     "metadata": {},
     "output_type": "execute_result"
    }
   ],
   "source": [
    "df.Start_Lng"
   ]
  },
  {
   "cell_type": "code",
   "execution_count": 43,
   "metadata": {
    "executionInfo": {
     "elapsed": 2463,
     "status": "ok",
     "timestamp": 1614878489819,
     "user": {
      "displayName": "Aakash N S",
      "photoUrl": "https://lh3.googleusercontent.com/a-/AOh14GiIWFHtan62vtW1gz2Bv2bxL3rppefcadxzEVxRKQ=s64",
      "userId": "03254185060287524023"
     },
     "user_tz": -330
    },
    "id": "4tEvL_RQPhlq"
   },
   "outputs": [],
   "source": [
    "sample_df = df.sample(int(0.1 * len(df)))"
   ]
  },
  {
   "cell_type": "code",
   "execution_count": 44,
   "metadata": {
    "colab": {
     "base_uri": "https://localhost:8080/",
     "height": 299
    },
    "executionInfo": {
     "elapsed": 15482,
     "status": "ok",
     "timestamp": 1614878510001,
     "user": {
      "displayName": "Aakash N S",
      "photoUrl": "https://lh3.googleusercontent.com/a-/AOh14GiIWFHtan62vtW1gz2Bv2bxL3rppefcadxzEVxRKQ=s64",
      "userId": "03254185060287524023"
     },
     "user_tz": -330
    },
    "id": "gkh8yL4UPhi-",
    "outputId": "9876ac05-f118-44fd-aa08-077998bf66a5"
   },
   "outputs": [
    {
     "data": {
      "text/plain": [
       "<Axes: xlabel='Start_Lng', ylabel='Start_Lat'>"
      ]
     },
     "execution_count": 44,
     "metadata": {},
     "output_type": "execute_result"
    },
    {
     "data": {
      "image/png": "[encoded data removed]",
      "text/plain": [
       "<Figure size 640x480 with 1 Axes>"
      ]
     },
     "metadata": {},
     "output_type": "display_data"
    }
   ],
   "source": [
    "sns.scatterplot(x=sample_df.Start_Lng, y=sample_df.Start_Lat, size=0.001)"
   ]
  },
  {
   "cell_type": "code",
   "execution_count": 46,
   "metadata": {
    "executionInfo": {
     "elapsed": 1217,
     "status": "ok",
     "timestamp": 1614878588575,
     "user": {
      "displayName": "Aakash N S",
      "photoUrl": "https://lh3.googleusercontent.com/a-/AOh14GiIWFHtan62vtW1gz2Bv2bxL3rppefcadxzEVxRKQ=s64",
      "userId": "03254185060287524023"
     },
     "user_tz": -330
    },
    "id": "2b_dBVyR7EHl"
   },
   "outputs": [],
   "source": [
    "import folium"
   ]
  },
  {
   "cell_type": "code",
   "execution_count": 47,
   "metadata": {
    "colab": {
     "base_uri": "https://localhost:8080/"
    },
    "executionInfo": {
     "elapsed": 1136,
     "status": "ok",
     "timestamp": 1614878680874,
     "user": {
      "displayName": "Aakash N S",
      "photoUrl": "https://lh3.googleusercontent.com/a-/AOh14GiIWFHtan62vtW1gz2Bv2bxL3rppefcadxzEVxRKQ=s64",
      "userId": "03254185060287524023"
     },
     "user_tz": -330
    },
    "id": "vuLp9BOxRLci",
    "outputId": "39ccd7fb-f8e4-4801-d538-cd08e34e174b"
   },
   "outputs": [
    {
     "data": {
      "text/plain": [
       "(40.1089099999999, -83.09286)"
      ]
     },
     "execution_count": 47,
     "metadata": {},
     "output_type": "execute_result"
    }
   ],
   "source": [
    "lat, lon = df.Start_Lat[0], df.Start_Lng[0]\n",
    "lat, lon"
   ]
  },
  {
   "cell_type": "code",
   "execution_count": 48,
   "metadata": {
    "colab": {
     "base_uri": "https://localhost:8080/"
    },
    "executionInfo": {
     "elapsed": 1962,
     "status": "ok",
     "timestamp": 1614878933864,
     "user": {
      "displayName": "Aakash N S",
      "photoUrl": "https://lh3.googleusercontent.com/a-/AOh14GiIWFHtan62vtW1gz2Bv2bxL3rppefcadxzEVxRKQ=s64",
      "userId": "03254185060287524023"
     },
     "user_tz": -330
    },
    "id": "Y8ZNqcFVRt81",
    "outputId": "87531e68-032b-4ca6-fa2f-daaec9cf4582"
   },
   "outputs": [
    {
     "name": "stdout",
     "output_type": "stream",
     "text": [
      "2261    37.69269\n",
      "6106    34.16626\n",
      "4960    38.56057\n",
      "1780    37.70287\n",
      "9701    34.03241\n",
      "          ...   \n",
      "2886    38.02851\n",
      "5937    32.87948\n",
      "3672    36.68532\n",
      "5673    33.95077\n",
      "3074    38.26073\n",
      "Name: Start_Lat, Length: 100, dtype: float64\n",
      "2261   -122.141030\n",
      "6106   -118.298960\n",
      "4960   -121.458270\n",
      "1780   -122.016940\n",
      "9701   -117.326450\n",
      "           ...    \n",
      "2886   -122.115975\n",
      "5937   -117.200980\n",
      "3672   -121.674340\n",
      "5673   -117.303260\n",
      "3074   -122.060600\n",
      "Name: Start_Lng, Length: 100, dtype: float64\n"
     ]
    },
    {
     "name": "stderr",
     "output_type": "stream",
     "text": [
      "C:\\Users\\HP\\AppData\\Local\\Temp\\ipykernel_17952\\1934753555.py:1: FutureWarning: iteritems is deprecated and will be removed in a future version. Use .items instead.\n",
      "  for x in df[['Start_Lat', 'Start_Lng']].sample(100).iteritems():\n"
     ]
    }
   ],
   "source": [
    "for x in df[['Start_Lat', 'Start_Lng']].sample(100).iteritems():\n",
    "    print(x[1])"
   ]
  },
  {
   "cell_type": "code",
   "execution_count": 49,
   "metadata": {
    "colab": {
     "base_uri": "https://localhost:8080/"
    },
    "executionInfo": {
     "elapsed": 1711,
     "status": "ok",
     "timestamp": 1614879129240,
     "user": {
      "displayName": "Aakash N S",
      "photoUrl": "https://lh3.googleusercontent.com/a-/AOh14GiIWFHtan62vtW1gz2Bv2bxL3rppefcadxzEVxRKQ=s64",
      "userId": "03254185060287524023"
     },
     "user_tz": -330
    },
    "id": "d1vWEMf-Sxeq",
    "outputId": "e285546d-c0c3-4bfb-c6c5-ee5e98341337"
   },
   "outputs": [
    {
     "data": {
      "text/plain": [
       "<zip at 0x1379aed5840>"
      ]
     },
     "execution_count": 49,
     "metadata": {},
     "output_type": "execute_result"
    }
   ],
   "source": [
    "zip(list(df.Start_Lat), list(df.Start_Lng))"
   ]
  },
  {
   "cell_type": "code",
   "execution_count": 50,
   "metadata": {
    "executionInfo": {
     "elapsed": 1883,
     "status": "ok",
     "timestamp": 1614879202735,
     "user": {
      "displayName": "Aakash N S",
      "photoUrl": "https://lh3.googleusercontent.com/a-/AOh14GiIWFHtan62vtW1gz2Bv2bxL3rppefcadxzEVxRKQ=s64",
      "userId": "03254185060287524023"
     },
     "user_tz": -330
    },
    "id": "ODtfSEc6TN7B"
   },
   "outputs": [],
   "source": [
    "from folium.plugins import HeatMap"
   ]
  },
  {
   "cell_type": "code",
   "execution_count": 52,
   "metadata": {
    "executionInfo": {
     "elapsed": 2989,
     "status": "ok",
     "timestamp": 1614879436427,
     "user": {
      "displayName": "Aakash N S",
      "photoUrl": "https://lh3.googleusercontent.com/a-/AOh14GiIWFHtan62vtW1gz2Bv2bxL3rppefcadxzEVxRKQ=s64",
      "userId": "03254185060287524023"
     },
     "user_tz": -330
    },
    "id": "vDG1zJnzTbW2"
   },
   "outputs": [],
   "source": [
    "sample_df = df.sample(int(0.001 * len(df)))\n",
    "lat_lon_pairs = list(zip(list(sample_df.Start_Lat), list(sample_df.Start_Lng)))"
   ]
  },
  {
   "cell_type": "code",
   "execution_count": 53,
   "metadata": {
    "colab": {
     "base_uri": "https://localhost:8080/",
     "height": 438
    },
    "executionInfo": {
     "elapsed": 4733,
     "status": "ok",
     "timestamp": 1614879438402,
     "user": {
      "displayName": "Aakash N S",
      "photoUrl": "https://lh3.googleusercontent.com/a-/AOh14GiIWFHtan62vtW1gz2Bv2bxL3rppefcadxzEVxRKQ=s64",
      "userId": "03254185060287524023"
     },
     "user_tz": -330
    },
    "id": "hJ2mH2FiQ8Wf",
    "outputId": "e0dee51c-d52e-4172-b162-60511c1cfd66"
   },
   "outputs": [
    {
     "data": {
      "text/html": [
       "<div style=\"width:100%;\"><div style=\"position:relative;width:100%;height:0;padding-bottom:60%;\"><span style=\"color:#565656\">Make this Notebook Trusted to load map: File -> Trust Notebook</span><iframe srcdoc=\"&lt;!DOCTYPE html&gt;\n",
       "&lt;html&gt;\n",
       "&lt;head&gt;\n",
       "    \n",
       "    &lt;meta http-equiv=&quot;content-type&quot; content=&quot;text/html; charset=UTF-8&quot; /&gt;\n",
       "    \n",
       "        &lt;script&gt;\n",
       "            L_NO_TOUCH = false;\n",
       "            L_DISABLE_3D = false;\n",
       "        &lt;/script&gt;\n",
       "    \n",
       "    &lt;style&gt;html, body {width: 100%;height: 100%;margin: 0;padding: 0;}&lt;/style&gt;\n",
       "    &lt;style&gt;#map {position:absolute;top:0;bottom:0;right:0;left:0;}&lt;/style&gt;\n",
       "    &lt;script src=&quot;https://cdn.jsdelivr.net/npm/leaflet@1.9.3/dist/leaflet.js&quot;&gt;&lt;/script&gt;\n",
       "    &lt;script src=&quot;https://code.jquery.com/jquery-1.12.4.min.js&quot;&gt;&lt;/script&gt;\n",
       "    &lt;script src=&quot;https://cdn.jsdelivr.net/npm/bootstrap@5.2.2/dist/js/bootstrap.bundle.min.js&quot;&gt;&lt;/script&gt;\n",
       "    &lt;script src=&quot;https://cdnjs.cloudflare.com/ajax/libs/Leaflet.awesome-markers/2.0.2/leaflet.awesome-markers.js&quot;&gt;&lt;/script&gt;\n",
       "    &lt;link rel=&quot;stylesheet&quot; href=&quot;https://cdn.jsdelivr.net/npm/leaflet@1.9.3/dist/leaflet.css&quot;/&gt;\n",
       "    &lt;link rel=&quot;stylesheet&quot; href=&quot;https://cdn.jsdelivr.net/npm/bootstrap@5.2.2/dist/css/bootstrap.min.css&quot;/&gt;\n",
       "    &lt;link rel=&quot;stylesheet&quot; href=&quot;https://netdna.bootstrapcdn.com/bootstrap/3.0.0/css/bootstrap.min.css&quot;/&gt;\n",
       "    &lt;link rel=&quot;stylesheet&quot; href=&quot;https://cdn.jsdelivr.net/npm/@fortawesome/fontawesome-free@6.2.0/css/all.min.css&quot;/&gt;\n",
       "    &lt;link rel=&quot;stylesheet&quot; href=&quot;https://cdnjs.cloudflare.com/ajax/libs/Leaflet.awesome-markers/2.0.2/leaflet.awesome-markers.css&quot;/&gt;\n",
       "    &lt;link rel=&quot;stylesheet&quot; href=&quot;https://cdn.jsdelivr.net/gh/python-visualization/folium/folium/templates/leaflet.awesome.rotate.min.css&quot;/&gt;\n",
       "    \n",
       "            &lt;meta name=&quot;viewport&quot; content=&quot;width=device-width,\n",
       "                initial-scale=1.0, maximum-scale=1.0, user-scalable=no&quot; /&gt;\n",
       "            &lt;style&gt;\n",
       "                #map_671159d8f353780bf2891f37b222f186 {\n",
       "                    position: relative;\n",
       "                    width: 100.0%;\n",
       "                    height: 100.0%;\n",
       "                    left: 0.0%;\n",
       "                    top: 0.0%;\n",
       "                }\n",
       "                .leaflet-container { font-size: 1rem; }\n",
       "            &lt;/style&gt;\n",
       "        \n",
       "    &lt;script src=&quot;https://cdn.jsdelivr.net/gh/python-visualization/folium@main/folium/templates/leaflet_heat.min.js&quot;&gt;&lt;/script&gt;\n",
       "&lt;/head&gt;\n",
       "&lt;body&gt;\n",
       "    \n",
       "    \n",
       "            &lt;div class=&quot;folium-map&quot; id=&quot;map_671159d8f353780bf2891f37b222f186&quot; &gt;&lt;/div&gt;\n",
       "        \n",
       "&lt;/body&gt;\n",
       "&lt;script&gt;\n",
       "    \n",
       "    \n",
       "            var map_671159d8f353780bf2891f37b222f186 = L.map(\n",
       "                &quot;map_671159d8f353780bf2891f37b222f186&quot;,\n",
       "                {\n",
       "                    center: [0, 0],\n",
       "                    crs: L.CRS.EPSG3857,\n",
       "                    zoom: 1,\n",
       "                    zoomControl: true,\n",
       "                    preferCanvas: false,\n",
       "                }\n",
       "            );\n",
       "\n",
       "            \n",
       "\n",
       "        \n",
       "    \n",
       "            var tile_layer_e02487ff6abdc4a4561a89505d5c9c9c = L.tileLayer(\n",
       "                &quot;https://{s}.tile.openstreetmap.org/{z}/{x}/{y}.png&quot;,\n",
       "                {&quot;attribution&quot;: &quot;Data by \\u0026copy; \\u003ca target=\\&quot;_blank\\&quot; href=\\&quot;http://openstreetmap.org\\&quot;\\u003eOpenStreetMap\\u003c/a\\u003e, under \\u003ca target=\\&quot;_blank\\&quot; href=\\&quot;http://www.openstreetmap.org/copyright\\&quot;\\u003eODbL\\u003c/a\\u003e.&quot;, &quot;detectRetina&quot;: false, &quot;maxNativeZoom&quot;: 18, &quot;maxZoom&quot;: 18, &quot;minZoom&quot;: 0, &quot;noWrap&quot;: false, &quot;opacity&quot;: 1, &quot;subdomains&quot;: &quot;abc&quot;, &quot;tms&quot;: false}\n",
       "            ).addTo(map_671159d8f353780bf2891f37b222f186);\n",
       "        \n",
       "    \n",
       "            var heat_map_9dcff32f3f10d9d5f556326376de9792 = L.heatLayer(\n",
       "                [[34.29689, -118.41673], [37.3101, -120.511789999999], [36.93962, -121.791289999999], [32.74071, -117.05197], [38.30377, -122.70817], [34.02004, -118.15552], [38.71929, -121.37368], [33.739166, -117.073435], [37.4993099999999, -122.128239999999], [33.873408, -118.2755]],\n",
       "                {&quot;blur&quot;: 15, &quot;maxZoom&quot;: 18, &quot;minOpacity&quot;: 0.5, &quot;radius&quot;: 25}\n",
       "            ).addTo(map_671159d8f353780bf2891f37b222f186);\n",
       "        \n",
       "&lt;/script&gt;\n",
       "&lt;/html&gt;\" style=\"position:absolute;width:100%;height:100%;left:0;top:0;border:none !important;\" allowfullscreen webkitallowfullscreen mozallowfullscreen></iframe></div></div>"
      ],
      "text/plain": [
       "<folium.folium.Map at 0x1379afcefa0>"
      ]
     },
     "execution_count": 53,
     "metadata": {},
     "output_type": "execute_result"
    }
   ],
   "source": [
    "map = folium.Map()\n",
    "HeatMap(lat_lon_pairs).add_to(map)\n",
    "map"
   ]
  }
 ],
 "metadata": {
  "accelerator": "GPU",
  "colab": {
   "machine_shape": "hm",
   "name": "blank-starter.ipynb",
   "provenance": []
  },
  "kernelspec": {
   "display_name": "Python 3 (ipykernel)",
   "language": "python",
   "name": "python3"
  },
  "language_info": {
   "codemirror_mode": {
    "name": "ipython",
    "version": 3
   },
   "file_extension": ".py",
   "mimetype": "text/x-python",
   "name": "python",
   "nbconvert_exporter": "python",
   "pygments_lexer": "ipython3",
   "version": "3.9.1"
  }
 },
 "nbformat": 4,
 "nbformat_minor": 1
}
